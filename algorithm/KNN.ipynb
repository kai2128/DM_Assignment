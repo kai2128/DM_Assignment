{
 "cells": [
  {
   "cell_type": "code",
   "execution_count": 3,
   "metadata": {},
   "outputs": [],
   "source": [
    "%%capture\n",
    "%run ./code.ipynb"
   ]
  },
  {
   "cell_type": "markdown",
   "metadata": {},
   "source": [
    "### K-Nearest Neighbors (KNN)"
   ]
  },
  {
   "cell_type": "code",
   "execution_count": 21,
   "metadata": {},
   "outputs": [],
   "source": [
    "from sklearn.neighbors import KNeighborsRegressor\n",
    "from sklearn.model_selection import cross_val_score, GridSearchCV"
   ]
  },
  {
   "cell_type": "code",
   "execution_count": 33,
   "metadata": {},
   "outputs": [],
   "source": [
    "import sklearn.metrics as metrics\n",
    "\n",
    "\n",
    "def regression_results(y_true, y_pred):\n",
    "\n",
    "    # Regression metrics\n",
    "    explained_variance = metrics.explained_variance_score(y_true, y_pred)\n",
    "    mean_absolute_error = metrics.mean_absolute_error(y_true, y_pred)\n",
    "    mse = metrics.mean_squared_error(y_true, y_pred)\n",
    "    mean_squared_log_error = metrics.mean_squared_log_error(y_true, y_pred)\n",
    "    median_absolute_error = metrics.median_absolute_error(y_true, y_pred)\n",
    "    r2 = metrics.r2_score(y_true, y_pred)\n",
    "\n",
    "    print('explained_variance: ', round(explained_variance, 4))\n",
    "    print('mean_squared_log_error: ', round(mean_squared_log_error, 4))\n",
    "    print('r2: ', round(r2, 4))\n",
    "    print('MAE: ', round(mean_absolute_error, 4))\n",
    "    print('MSE: ', round(mse, 4))\n",
    "    print('RMSE: ', round(np.sqrt(mse), 4))\n"
   ]
  },
  {
   "cell_type": "code",
   "execution_count": null,
   "metadata": {},
   "outputs": [],
   "source": [
    "knn_rgs = KNeighborsRegressor(n_neighbors=5, n_jobs=-1)"
   ]
  },
  {
   "cell_type": "code",
   "execution_count": 4,
   "metadata": {},
   "outputs": [
    {
     "data": {
      "text/plain": [
       "KNeighborsRegressor(n_jobs=-1)"
      ]
     },
     "execution_count": 4,
     "metadata": {},
     "output_type": "execute_result"
    }
   ],
   "source": [
    "knn_rgs.fit(X_train, y_train)"
   ]
  },
  {
   "cell_type": "code",
   "execution_count": 5,
   "metadata": {},
   "outputs": [
    {
     "data": {
      "text/plain": [
       "0.9501148748813034"
      ]
     },
     "execution_count": 5,
     "metadata": {},
     "output_type": "execute_result"
    }
   ],
   "source": [
    "knn_rgs.score(X_test, y_test)"
   ]
  },
  {
   "cell_type": "code",
   "execution_count": 22,
   "metadata": {},
   "outputs": [],
   "source": [
    "y_predict = knn_rgs.predict(X_test)"
   ]
  },
  {
   "cell_type": "markdown",
   "metadata": {},
   "source": [
    "Apply hyperparameter for finding best scroe"
   ]
  },
  {
   "cell_type": "code",
   "execution_count": 13,
   "metadata": {},
   "outputs": [
    {
     "name": "stdout",
     "output_type": "stream",
     "text": [
      "Fitting 5 folds for each of 16 candidates, totalling 80 fits\n"
     ]
    }
   ],
   "source": [
    "grid_params = [{\n",
    "    'weights': ['uniform', 'distance'],\n",
    "    'n_neighbors': [i for i in range(3, 11,2)],\n",
    "    'metric': ['euclidean', 'manhattan'],\n",
    "}]\n",
    "\n",
    "gs = GridSearchCV(KNeighborsRegressor(),\n",
    "                  grid_params,\n",
    "                  n_jobs=-1,\n",
    "                  cv=5,\n",
    "                  verbose=1)\n",
    "gs_results = gs.fit(X_train, y_train)"
   ]
  },
  {
   "cell_type": "code",
   "execution_count": 14,
   "metadata": {},
   "outputs": [
    {
     "name": "stdout",
     "output_type": "stream",
     "text": [
      "Best score: 0.9495476390677879\n",
      "Best params: {'metric': 'manhattan', 'n_neighbors': 7, 'weights': 'distance'}\n",
      "Best estimator: KNeighborsRegressor(metric='manhattan', n_neighbors=7, weights='distance')\n"
     ]
    }
   ],
   "source": [
    "print('Best score: {}'.format(gs_results.best_score_))\n",
    "print('Best params: {}'.format(gs_results.best_params_))\n",
    "print('Best estimator: {}'.format(gs_results.best_estimator_))\n"
   ]
  },
  {
   "cell_type": "code",
   "execution_count": 24,
   "metadata": {},
   "outputs": [],
   "source": [
    "gs_predict = gs.predict(X_test)"
   ]
  },
  {
   "cell_type": "code",
   "execution_count": 35,
   "metadata": {},
   "outputs": [
    {
     "name": "stdout",
     "output_type": "stream",
     "text": [
      "Before apply hyperparameter: \n",
      "\n",
      "explained_variance:  0.9502\n",
      "mean_squared_log_error:  0.0078\n",
      "r2:  0.9501\n",
      "MAE:  1053.9888\n",
      "MSE:  2419726.3832\n",
      "RMSE:  1555.547\n",
      "None\n",
      "After apply hyperparameter: \n",
      "\n",
      "explained_variance:  0.9511\n",
      "mean_squared_log_error:  0.0076\n",
      "r2:  0.951\n",
      "MAE:  1029.4971\n",
      "MSE:  2376493.5799\n",
      "RMSE:  1541.588\n",
      "None\n"
     ]
    }
   ],
   "source": [
    "print('Before apply hyperparameter: \\n')\n",
    "print(regression_results(y_test, y_predict))\n",
    "\n",
    "print('After apply hyperparameter: \\n')\n",
    "print(regression_results(y_test, gs_predict))"
   ]
  },
  {
   "cell_type": "code",
   "execution_count": 36,
   "metadata": {},
   "outputs": [
    {
     "name": "stdout",
     "output_type": "stream",
     "text": [
      "Cross validation score: [0.94526955 0.94974448 0.95055283 0.9485583  0.95491301 0.94688214\n",
      " 0.93944819 0.9459707  0.94039415 0.95714854]\n",
      "Mean cross validation score: 0.9478881886860604\n",
      "Standard deviation cross validation score: 0.005338892618583622\n"
     ]
    }
   ],
   "source": [
    "cv_score = cross_val_score(knn_rgs, X_train, y_train, cv=10)\n",
    "print('Cross validation score: {}'.format(cv_score))\n",
    "print('Mean cross validation score: {}'.format(np.mean(cv_score)))\n",
    "print('Standard deviation cross validation score: {}'.format(np.std(cv_score)))"
   ]
  },
  {
   "cell_type": "code",
   "execution_count": 50,
   "metadata": {},
   "outputs": [
    {
     "name": "stdout",
     "output_type": "stream",
     "text": [
      "Cross validation score: [0.9492486  0.95391607 0.95188232 0.95218969 0.95787629 0.94804287\n",
      " 0.940333   0.94661866 0.942444   0.96108939]\n",
      "Mean cross validation score: 0.9503640882762037\n",
      "Standard deviation cross validation score: 0.006113353775348264\n"
     ]
    }
   ],
   "source": [
    "cv_score = cross_val_score(gs.best_estimator_, X_train, y_train, cv=10)\n",
    "print('Cross validation score: {}'.format(cv_score))\n",
    "print('Mean cross validation score: {}'.format(np.mean(cv_score)))\n",
    "print('Standard deviation cross validation score: {}'.format(np.std(cv_score)))"
   ]
  }
 ],
 "metadata": {
  "interpreter": {
   "hash": "fe98e8411979112556fc0931a165462f7878d15647479efe839ddbe629074d5d"
  },
  "kernelspec": {
   "display_name": "Python 3.9.7 ('base')",
   "language": "python",
   "name": "python3"
  },
  "language_info": {
   "codemirror_mode": {
    "name": "ipython",
    "version": 3
   },
   "file_extension": ".py",
   "mimetype": "text/x-python",
   "name": "python",
   "nbconvert_exporter": "python",
   "pygments_lexer": "ipython3",
   "version": "3.9.7"
  },
  "orig_nbformat": 4
 },
 "nbformat": 4,
 "nbformat_minor": 2
}
