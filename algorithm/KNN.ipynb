{
 "cells": [
  {
   "cell_type": "code",
   "execution_count": 33,
   "metadata": {},
   "outputs": [],
   "source": [
    "%%capture\n",
    "%run ./algorithm/read_data.ipynb"
   ]
  },
  {
   "cell_type": "markdown",
   "metadata": {},
   "source": [
    "### K-Nearest Neighbors (KNN)"
   ]
  },
  {
   "cell_type": "code",
   "execution_count": 34,
   "metadata": {},
   "outputs": [],
   "source": [
    "from sklearn.neighbors import KNeighborsRegressor\n",
    "from sklearn.model_selection import cross_val_score, GridSearchCV"
   ]
  },
  {
   "cell_type": "code",
   "execution_count": 3,
   "metadata": {},
   "outputs": [],
   "source": [
    "knn_rgs = KNeighborsRegressor(n_neighbors=5, n_jobs=-1)\n",
    "knn_rgs.fit(X_train, y_train)"
   ]
  },
  {
   "cell_type": "code",
   "execution_count": 37,
   "metadata": {},
   "outputs": [
    {
     "name": "stdout",
     "output_type": "stream",
     "text": [
      "Train score: \t\t         0.9670\n",
      "Test score: \t\t         0.9501\n"
     ]
    }
   ],
   "source": [
    "train_test_report(knn_rgs)"
   ]
  },
  {
   "cell_type": "code",
   "execution_count": null,
   "metadata": {},
   "outputs": [],
   "source": [
    "train_test_report"
   ]
  },
  {
   "cell_type": "markdown",
   "metadata": {},
   "source": [
    "Using GridSearch to find hyper parameter for finding best scroe"
   ]
  },
  {
   "cell_type": "code",
   "execution_count": 12,
   "metadata": {},
   "outputs": [
    {
     "name": "stdout",
     "output_type": "stream",
     "text": [
      "Fitting 5 folds for each of 16 candidates, totalling 80 fits\n"
     ]
    },
    {
     "data": {
      "text/plain": [
       "GridSearchCV(cv=5, estimator=KNeighborsRegressor(), n_jobs=-1,\n",
       "             param_grid=[{'metric': ['euclidean', 'manhattan'],\n",
       "                          'n_neighbors': [3, 5, 7, 9],\n",
       "                          'weights': ['uniform', 'distance']}],\n",
       "             verbose=1)"
      ]
     },
     "execution_count": 12,
     "metadata": {},
     "output_type": "execute_result"
    }
   ],
   "source": [
    "grid_params = [{\n",
    "    'weights': ['uniform', 'distance'],\n",
    "    'n_neighbors': [i for i in range(3, 11,2)],\n",
    "    'metric': ['euclidean', 'manhattan'],\n",
    "}]\n",
    "\n",
    "knn_tuned = GridSearchCV(KNeighborsRegressor(),\n",
    "                  grid_params,\n",
    "                  n_jobs=-1,\n",
    "                  cv=5,\n",
    "                  verbose=1)\n",
    "knn_tuned.fit(X_train, y_train)"
   ]
  },
  {
   "cell_type": "code",
   "execution_count": 29,
   "metadata": {},
   "outputs": [
    {
     "name": "stdout",
     "output_type": "stream",
     "text": [
      "Best score: \t\t\t         0.9495\n",
      "Best parameters: \t\t{'metric': 'manhattan', 'n_neighbors': 7, 'weights': 'distance'}\n",
      "Best estimator: \t\tKNeighborsRegressor(metric='manhattan', n_neighbors=7, weights='distance')\n"
     ]
    }
   ],
   "source": [
    "gs_report(knn_tuned)"
   ]
  },
  {
   "cell_type": "code",
   "execution_count": 38,
   "metadata": {},
   "outputs": [
    {
     "name": "stdout",
     "output_type": "stream",
     "text": [
      "Before tuning hyperparameter: \n",
      "\n",
      "Accuracy score: \t\t\t         0.9502\n",
      "R-squared score: \t\t\t         0.9501\n",
      "Mean Absolute Error(MAE): \t\t      1054.1277\n",
      "Mean Squared Error (MSE): \t\t   2420642.4594\n",
      "Root Mean Squared Error (RSME): \t      1555.8414\n",
      "-------------------------------------------------------\n",
      "After tuning hyper parameter: \n",
      "\n",
      "Accuracy score: \t\t\t         0.9511\n",
      "R-squared score: \t\t\t         0.9510\n",
      "Mean Absolute Error(MAE): \t\t      1029.5205\n",
      "Mean Squared Error (MSE): \t\t   2376927.3768\n",
      "Root Mean Squared Error (RSME): \t      1541.7287\n"
     ]
    }
   ],
   "source": [
    "regression_report_compare_model(knn_rgs, knn_tuned)"
   ]
  },
  {
   "cell_type": "code",
   "execution_count": 26,
   "metadata": {},
   "outputs": [
    {
     "name": "stdout",
     "output_type": "stream",
     "text": [
      "Cross validation score: [0.94526764 0.949726   0.9504196  0.94856203 0.95507603 0.94696701\n",
      " 0.93947258 0.94596726 0.94043414 0.95705833]\n",
      "Mean cross validation score: 0.9478950611302871\n",
      "Standard deviation cross validation score: 0.005327163947915614\n"
     ]
    }
   ],
   "source": [
    "cv_score = cross_val_score(knn_rgs, X_train, y_train, cv=10)\n",
    "cv_score_report(cv_score)"
   ]
  },
  {
   "cell_type": "code",
   "execution_count": 28,
   "metadata": {},
   "outputs": [
    {
     "name": "stdout",
     "output_type": "stream",
     "text": [
      "Cross validation score: [0.9492486  0.95391666 0.95188232 0.95218969 0.95787629 0.94804287\n",
      " 0.94033309 0.94661866 0.942444   0.96108939]\n",
      "Mean cross validation score: 0.9503641558892504\n",
      "Standard deviation cross validation score: 0.006113372956100832\n"
     ]
    }
   ],
   "source": [
    "cv_score = cross_val_score(knn_tuned.best_estimator_, X_train, y_train, cv=10)\n",
    "cv_score_report(cv_score)"
   ]
  }
 ],
 "metadata": {
  "interpreter": {
   "hash": "fe98e8411979112556fc0931a165462f7878d15647479efe839ddbe629074d5d"
  },
  "kernelspec": {
   "display_name": "Python 3.9.7 ('base')",
   "language": "python",
   "name": "python3"
  },
  "language_info": {
   "codemirror_mode": {
    "name": "ipython",
    "version": 3
   },
   "file_extension": ".py",
   "mimetype": "text/x-python",
   "name": "python",
   "nbconvert_exporter": "python",
   "pygments_lexer": "ipython3",
   "version": "3.9.7"
  },
  "orig_nbformat": 4
 },
 "nbformat": 4,
 "nbformat_minor": 2
}
