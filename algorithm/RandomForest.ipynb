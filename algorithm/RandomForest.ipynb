{
 "cells": [
  {
   "cell_type": "code",
   "execution_count": 10,
   "metadata": {},
   "outputs": [],
   "source": [
    "%%capture\n",
    "%run ./algorithm/read_data.ipynb"
   ]
  },
  {
   "cell_type": "markdown",
   "metadata": {},
   "source": [
    "### Random Forest Regressor"
   ]
  },
  {
   "cell_type": "code",
   "execution_count": 16,
   "metadata": {},
   "outputs": [],
   "source": [
    "from sklearn.ensemble import RandomForestRegressor"
   ]
  },
  {
   "cell_type": "code",
   "execution_count": 12,
   "metadata": {},
   "outputs": [
    {
     "data": {
      "text/plain": [
       "RandomForestRegressor(n_estimators=300, n_jobs=-1, random_state=40)"
      ]
     },
     "execution_count": 12,
     "metadata": {},
     "output_type": "execute_result"
    }
   ],
   "source": [
    "rfr = RandomForestRegressor(n_estimators=300,random_state=40,n_jobs=-1)\n",
    "rfr.fit(X_train,y_train)"
   ]
  },
  {
   "cell_type": "code",
   "execution_count": 13,
   "metadata": {},
   "outputs": [
    {
     "name": "stdout",
     "output_type": "stream",
     "text": [
      "Train score: \t\t         0.9931\n",
      "Test score: \t\t         0.9563\n"
     ]
    }
   ],
   "source": [
    "train_test_report(rfr)"
   ]
  },
  {
   "cell_type": "code",
   "execution_count": 14,
   "metadata": {},
   "outputs": [
    {
     "data": {
      "text/plain": [
       "<Figure size 432x288 with 0 Axes>"
      ]
     },
     "metadata": {},
     "output_type": "display_data"
    },
    {
     "data": {
      "image/png": "[encoded data removed]",
      "text/plain": [
       "<Figure size 471x360 with 1 Axes>"
      ]
     },
     "metadata": {
      "needs_background": "light"
     },
     "output_type": "display_data"
    }
   ],
   "source": [
    "plot_prediction_compare_ori(rfr)"
   ]
  },
  {
   "cell_type": "code",
   "execution_count": 17,
   "metadata": {},
   "outputs": [],
   "source": [
    "from sklearn.model_selection import GridSearchCV"
   ]
  },
  {
   "cell_type": "code",
   "execution_count": 20,
   "metadata": {},
   "outputs": [],
   "source": [
    "parameters = {\n",
    "    'n_estimators': [100,200,300,400,500],\n",
    "    'max_depth': [4,8,10],\n",
    "}"
   ]
  },
  {
   "cell_type": "code",
   "execution_count": 21,
   "metadata": {},
   "outputs": [
    {
     "data": {
      "text/plain": [
       "GridSearchCV(cv=5,\n",
       "             estimator=RandomForestRegressor(n_estimators=300, n_jobs=-1,\n",
       "                                             random_state=40),\n",
       "             n_jobs=-1,\n",
       "             param_grid={'max_depth': [4, 8, 10],\n",
       "                         'n_estimators': [100, 200, 300, 400, 500]})"
      ]
     },
     "execution_count": 21,
     "metadata": {},
     "output_type": "execute_result"
    }
   ],
   "source": [
    "rfr_tuned = GridSearchCV(rfr,parameters,cv=5,n_jobs=-1)\n",
    "rfr_tuned.fit(X_train,y_train)"
   ]
  },
  {
   "cell_type": "code",
   "execution_count": 23,
   "metadata": {},
   "outputs": [
    {
     "name": "stdout",
     "output_type": "stream",
     "text": [
      "Best score: \t\t\t         0.9521\n",
      "Best parameters: \t\t{'max_depth': 10, 'n_estimators': 200}\n",
      "Best estimator: \t\tRandomForestRegressor(max_depth=10, n_estimators=200, n_jobs=-1,\n",
      "                      random_state=40)\n"
     ]
    }
   ],
   "source": [
    "gs_report(rfr_tuned)"
   ]
  },
  {
   "cell_type": "code",
   "execution_count": 22,
   "metadata": {},
   "outputs": [
    {
     "name": "stdout",
     "output_type": "stream",
     "text": [
      "Before tuning hyperparameter: \n",
      "\n",
      "Accuracy score: \t\t\t         0.9563\n",
      "R-squared score: \t\t\t         0.9563\n",
      "Mean Absolute Error(MAE): \t\t      1002.0946\n",
      "Mean Squared Error (MSE): \t\t   2119327.9782\n",
      "Root Mean Squared Error (RSME): \t      1455.7912\n",
      "Root Mean Squared Log Error (RSMLE): \t         0.0846\n",
      "-------------------------------------------------------\n",
      "After tuning hyper parameter: \n",
      "\n",
      "Accuracy score: \t\t\t         0.9541\n",
      "R-squared score: \t\t\t         0.9541\n",
      "Mean Absolute Error(MAE): \t\t      1058.2869\n",
      "Mean Squared Error (MSE): \t\t   2227071.4784\n",
      "Root Mean Squared Error (RSME): \t      1492.3376\n",
      "Root Mean Squared Log Error (RSMLE): \t         0.0860\n"
     ]
    }
   ],
   "source": [
    "regression_report_compare_model(rfr, rfr_tuned)"
   ]
  }
 ],
 "metadata": {
  "interpreter": {
   "hash": "fe98e8411979112556fc0931a165462f7878d15647479efe839ddbe629074d5d"
  },
  "kernelspec": {
   "display_name": "Python 3.9.7 ('base')",
   "language": "python",
   "name": "python3"
  },
  "language_info": {
   "codemirror_mode": {
    "name": "ipython",
    "version": 3
   },
   "file_extension": ".py",
   "mimetype": "text/x-python",
   "name": "python",
   "nbconvert_exporter": "python",
   "pygments_lexer": "ipython3",
   "version": "3.9.7"
  },
  "orig_nbformat": 4
 },
 "nbformat": 4,
 "nbformat_minor": 2
}
