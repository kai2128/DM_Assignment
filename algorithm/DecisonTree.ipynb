{
 "cells": [
  {
   "cell_type": "code",
   "execution_count": 1,
   "metadata": {},
   "outputs": [],
   "source": [
    "%%capture\n",
    "%run ./code.ipynb"
   ]
  },
  {
   "cell_type": "markdown",
   "metadata": {},
   "source": [
    "### Decision Tree"
   ]
  },
  {
   "cell_type": "code",
   "execution_count": 5,
   "metadata": {},
   "outputs": [],
   "source": [
    "from sklearn.tree import DecisionTreeRegressor\n",
    "from sklearn.model_selection import GridSearchCV, cross_val_score\n",
    "from sklearn.pipeline import Pipeline\n",
    "from sklearn.decomposition import PCA"
   ]
  },
  {
   "cell_type": "code",
   "execution_count": 48,
   "metadata": {},
   "outputs": [
    {
     "data": {
      "text/plain": [
       "0.931976119292736"
      ]
     },
     "execution_count": 48,
     "metadata": {},
     "output_type": "execute_result"
    }
   ],
   "source": [
    "dt_rgs = DecisionTreeRegressor()\n",
    "dt_rgs.fit(X_train, y_train)\n",
    "y_pred = dt_rgs.predict(X_test)\n",
    "dt_rgs.score(X_test, y_test)"
   ]
  },
  {
   "cell_type": "code",
   "execution_count": 16,
   "metadata": {},
   "outputs": [],
   "source": [
    "pca = PCA()\n",
    "pipe = Pipeline(steps=[('pca', pca), ('dt_rgs', dt_rgs)])\n",
    "n_components = list(range(1, X_train.shape[1] + 1))"
   ]
  },
  {
   "cell_type": "code",
   "execution_count": 49,
   "metadata": {},
   "outputs": [],
   "source": [
    "parameters = {\n",
    "    \"dt_rgs__splitter\": [\"best\", \"random\"],\n",
    "    \"dt_rgs__max_depth\": list(range(2, 14, 2)),\n",
    "    \"dt_rgs__min_samples_leaf\": list(range(1, 10)),\n",
    "}\n"
   ]
  },
  {
   "cell_type": "code",
   "execution_count": 50,
   "metadata": {},
   "outputs": [
    {
     "data": {
      "text/plain": [
       "GridSearchCV(estimator=Pipeline(steps=[('pca', PCA()),\n",
       "                                       ('dt_rgs', DecisionTreeRegressor())]),\n",
       "             param_grid={'dt_rgs__max_depth': [2, 4, 6, 8, 10, 12],\n",
       "                         'dt_rgs__min_samples_leaf': [1, 2, 3, 4, 5, 6, 7, 8,\n",
       "                                                      9],\n",
       "                         'dt_rgs__splitter': ['best', 'random']})"
      ]
     },
     "execution_count": 50,
     "metadata": {},
     "output_type": "execute_result"
    }
   ],
   "source": [
    "gs = GridSearchCV(pipe, parameters)\n",
    "gs.fit(X_train, y_train)"
   ]
  },
  {
   "cell_type": "code",
   "execution_count": 67,
   "metadata": {},
   "outputs": [
    {
     "name": "stdout",
     "output_type": "stream",
     "text": [
      "Best score: 0.9359760813398023\n",
      "Best params: {'dt_rgs__max_depth': 12, 'dt_rgs__min_samples_leaf': 9, 'dt_rgs__splitter': 'best'}\n",
      "Best estimator: Pipeline(steps=[('pca', PCA()),\n",
      "                ('dt_rgs',\n",
      "                 DecisionTreeRegressor(max_depth=12, min_samples_leaf=9))])\n"
     ]
    }
   ],
   "source": [
    "print('Best score: {}'.format(gs.best_score_))\n",
    "print('Best params: {}'.format(gs.best_params_))\n",
    "print('Best estimator: {}'.format(gs.best_estimator_))\n"
   ]
  },
  {
   "cell_type": "code",
   "execution_count": 52,
   "metadata": {},
   "outputs": [],
   "source": [
    "gs_pred = gs.predict(X_test)"
   ]
  },
  {
   "cell_type": "code",
   "execution_count": 65,
   "metadata": {},
   "outputs": [
    {
     "name": "stdout",
     "output_type": "stream",
     "text": [
      "Without tuning:\n",
      "Accuracy:  0.9320244531263394\n",
      "MAE: 1225.5419022516237\n",
      "MSE: 3299564.317834393\n",
      "RMSE: 1816.4702909308462\n",
      "\n",
      "\n",
      "With hyperparamater tuned:\n",
      "Accuracy:  0.9379360030879912\n",
      "MAE: 1171.3285415917687\n",
      "MSE: 3010514.7305414267\n",
      "RMSE: 1735.0834938242674\n"
     ]
    }
   ],
   "source": [
    "from sklearn import metrics\n",
    "\n",
    "\n",
    "print('Without tuning:')\n",
    "print('Accuracy: ', metrics.explained_variance_score(y_test, y_pred))\n",
    "print('MAE:', metrics.mean_absolute_error(y_test, y_pred))\n",
    "print('MSE:', metrics.mean_squared_error(y_test, y_pred))\n",
    "print('RMSE:', np.sqrt(metrics.mean_squared_error(y_test, y_pred)))\n",
    "\n",
    "print('\\n')\n",
    "print('With hyperparamater tuned:')\n",
    "print('Accuracy: ', metrics.explained_variance_score(y_test, gs_pred))\n",
    "print('MAE:', metrics.mean_absolute_error(y_test,gs_pred))\n",
    "print('MSE:', metrics.mean_squared_error(y_test, gs_pred))\n",
    "print('RMSE:', np.sqrt(metrics.mean_squared_error(y_test, gs_pred)))"
   ]
  }
 ],
 "metadata": {
  "interpreter": {
   "hash": "fe98e8411979112556fc0931a165462f7878d15647479efe839ddbe629074d5d"
  },
  "kernelspec": {
   "display_name": "Python 3.9.7 ('base')",
   "language": "python",
   "name": "python3"
  },
  "language_info": {
   "codemirror_mode": {
    "name": "ipython",
    "version": 3
   },
   "file_extension": ".py",
   "mimetype": "text/x-python",
   "name": "python",
   "nbconvert_exporter": "python",
   "pygments_lexer": "ipython3",
   "version": "3.9.7"
  },
  "orig_nbformat": 4
 },
 "nbformat": 4,
 "nbformat_minor": 2
}
